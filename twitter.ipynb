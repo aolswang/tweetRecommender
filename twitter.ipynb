{
 "cells": [
  {
   "cell_type": "markdown",
   "metadata": {},
   "source": [
    "# Twitter Hashtag Recommendation System Using URL Information\n",
    "Gilad Ben OR, Amir Olswang"
   ]
  },
  {
   "cell_type": "code",
   "execution_count": 1,
   "metadata": {},
   "outputs": [],
   "source": [
    "import os\n",
    "os.chdir(\"C:\\\\Users\\\\user\\\\Documents\\\\Recommender systems\\\\final project\\\\twitter\")\n",
    "\n",
    "import pandas as pd\n",
    "from sklearn.model_selection import train_test_split\n",
    "import matplotlib.pyplot as plt\n",
    "import pickle\n",
    "\n",
    "import seaborn as sns\n",
    "from tmodel import *\n",
    "%matplotlib inline\n",
    "\n"
   ]
  },
  {
   "cell_type": "code",
   "execution_count": 2,
   "metadata": {},
   "outputs": [],
   "source": [
    "# The length of the recommendation list\n",
    "p = 2000"
   ]
  },
  {
   "cell_type": "markdown",
   "metadata": {},
   "source": [
    "# HF-IHU (orignal paper)"
   ]
  },
  {
   "cell_type": "code",
   "execution_count": null,
   "metadata": {},
   "outputs": [],
   "source": [
    "m_orig = tmodel(test_size = 0.1, seed=5, url_support=False)\n",
    "m_orig.fit_the_model()\n",
    "orig_result = m_orig.test_the_model(p)"
   ]
  },
  {
   "cell_type": "code",
   "execution_count": null,
   "metadata": {},
   "outputs": [],
   "source": [
    "np.save (\"orig_result_200000\", orig_result)\n"
   ]
  },
  {
   "cell_type": "markdown",
   "metadata": {},
   "source": [
    "# HF-IHU-URL "
   ]
  },
  {
   "cell_type": "code",
   "execution_count": 3,
   "metadata": {},
   "outputs": [
    {
     "name": "stdout",
     "output_type": "stream",
     "text": [
      "Data directory: data/200000\n"
     ]
    },
    {
     "name": "stderr",
     "output_type": "stream",
     "text": [
      "C:\\Users\\user\\Anaconda3\\lib\\site-packages\\IPython\\core\\interactiveshell.py:2850: DtypeWarning: Columns (19,20,21,22,23) have mixed types. Specify dtype option on import or set low_memory=False.\n",
      "  if self.run_code(code, result):\n",
      "C:\\Users\\user\\Anaconda3\\lib\\site-packages\\IPython\\core\\interactiveshell.py:2850: DtypeWarning: Columns (25,26,27,28,29,30,31,32,33,34,35,36,37,38,39,40,41,42,43,44) have mixed types. Specify dtype option on import or set low_memory=False.\n",
      "  if self.run_code(code, result):\n",
      "C:\\Users\\user\\Anaconda3\\lib\\site-packages\\IPython\\core\\interactiveshell.py:2850: DtypeWarning: Columns (45,46,47,48,49,50,51,52,53,54,55,56,57,58,59,60,61,62,63,64,65,66,67,68,69,70,71,72,73,74,75,76,77,78,79,80,81,82,83,84,85,86,87,88,89,90,91,92,93,94,95,96,97,98,99,100,101,102,103,104,105,106,107,108,109,110,111,112,113,114,115,116,117,118,119,120,121,122,123,124,125,126,127,128,129,130,131,132,133,134,135,136,137,138,139,140,141,142,143,144,145,146,147,148,149,150,151,152,153,154,155,156,157,158,159,160,161,162,163,164,165,166,167,168,169,170,171,172,173,174,175,176,177,178,179,180,181,182,183,184,185,186,187,188,189,190,191,192,193,194,195,196,197,198,199,200,201,202,203,204,205,206,207,208,209,210,211,212,213,214,215,216,217,218,219,220,221,222,223,224,225,226,227,228,229,230,231,232,233,234,235,236,237,238,239,240,241,242,243,244,245,246,247,248,249,250,251,252,253,254,255,256,257,258,259,260,261,262,263,264,265,266,267,268,269,270,271,272,273,274,275,276,277,278,279,280,281,282,283,284,285,286,287,288,289,290,291,292,293,294,295,296,297,298,299,300,301,302,303,304,305,306,307,308,309,310,311,312,313,314,315,316,317,318,319,320,321,322,323,324,325,326,327,328,329,330,331,332,333,334,335,336,337,338,339,340,341,342,343,344,345,346,347,348,349,350,351,352,353,354,355,356,357,358,359,360,361,362,363,364,365,366,367,368,369,370,371,372,373,374,375,376,377,378,379,380,381,382,383,384,385,386,387,388,389,390,391,392,393,394,395,396,397,398,399,400,401,402,403,404,405,406,407,408,409,410,411,412,413,414,415,416,417,418,419,420,421,422,423,424,425,426,427,428,429,430,431,432,433,434,435,436,437,438,439,440,441,442,443,444,445,446,447,448,449,450,451) have mixed types. Specify dtype option on import or set low_memory=False.\n",
      "  if self.run_code(code, result):\n"
     ]
    },
    {
     "name": "stdout",
     "output_type": "stream",
     "text": [
      "Finish fitting 185580 rows\n"
     ]
    }
   ],
   "source": [
    "m_url = tmodel(test_size = 0.1, seed=5, url_support=True)\n",
    "m_url.fit_the_model()\n",
    "url_result = m_url.test_the_model(p)"
   ]
  },
  {
   "cell_type": "code",
   "execution_count": 4,
   "metadata": {},
   "outputs": [],
   "source": [
    "np.save (\"url_result_200000\", url_result)\n"
   ]
  },
  {
   "cell_type": "code",
   "execution_count": null,
   "metadata": {},
   "outputs": [],
   "source": [
    "# fit the model with URL, test without URLs\n",
    "url_result_test_without_url = m_url.test_the_model(p, test_with_url=False)\n",
    "np.save (\"url_result_test_without_url_200000\", url_result_test_without_url)\n"
   ]
  },
  {
   "cell_type": "markdown",
   "metadata": {},
   "source": [
    "# HF-IHU-URL (All dataset tweets have URLs) "
   ]
  },
  {
   "cell_type": "code",
   "execution_count": null,
   "metadata": {},
   "outputs": [],
   "source": [
    "m_url_only = tmodel(test_size = 0.1, seed=5, url_support=True, url_only=True)\n",
    "m_url_only.fit_the_model()\n",
    "url_only_result = m_url_only.test_the_model(p)"
   ]
  },
  {
   "cell_type": "code",
   "execution_count": null,
   "metadata": {},
   "outputs": [],
   "source": [
    "np.save (\"url_only_result_200000\", url_only_result)"
   ]
  },
  {
   "cell_type": "markdown",
   "metadata": {},
   "source": [
    "# Analyze the results"
   ]
  },
  {
   "cell_type": "code",
   "execution_count": 5,
   "metadata": {},
   "outputs": [],
   "source": [
    "orig_result = np.load(\"orig_result_200000.npy\")\n",
    "url_result = np.load (\"url_result_200000.npy\")\n",
    "url_only_result = np.load (\"url_only_result_200000.npy\")\n"
   ]
  },
  {
   "cell_type": "code",
   "execution_count": 7,
   "metadata": {},
   "outputs": [
    {
     "data": {
      "image/png": "[encoded data removed]",
      "text/plain": [
       "<matplotlib.figure.Figure at 0x20c265e2d68>"
      ]
     },
     "metadata": {},
     "output_type": "display_data"
    }
   ],
   "source": [
    "p_g = 1000 #range of p for the graph\n",
    "p_axis = range (p_g)\n",
    "plt.plot(p_axis, orig_result[0:p_g],'r--', label=\"HF-IHU\")\n",
    "plt.plot(p_axis, url_result[0:p_g],'b--',label=\"HF-IHU-URL (entrie dataset)\")\n",
    "plt.plot(p_axis, url_result_test_without_url[0:p_g],'g--',label=\"HF-IHU-URL (test without URL)\")\n",
    "plt.xlabel('Number of Ranked Recommendations (p)')\n",
    "plt.ylabel ('Recall: % Ground Truth Hashtags Matched by Recommendations')\n",
    "legend = plt.legend(loc='upper center', shadow=True, fontsize='x-large')\n",
    "legend.get_frame().set_facecolor('#00FFCC')\n",
    "plt.legend(bbox_to_anchor=(1.05, 1), loc=2, borderaxespad=0.)\n",
    "\n",
    "plt.show()"
   ]
  },
  {
   "cell_type": "markdown",
   "metadata": {},
   "source": [
    "# Learn without url test with url"
   ]
  },
  {
   "cell_type": "code",
   "execution_count": null,
   "metadata": {},
   "outputs": [],
   "source": [
    "m_learn_without_url_test_with_url = tmodel(0.2, 1, url_support=True, learn_without_url_test_with_url=True)\n",
    "m_learn_without_url_test_with_url.fit_the_model()\n",
    "m_learn_without_url_test_with_url_result = m_learn_without_url_test_with_url.test_the_model(p)"
   ]
  },
  {
   "cell_type": "code",
   "execution_count": null,
   "metadata": {},
   "outputs": [],
   "source": [
    "np.save (\"m_learn_without_url_test_with_url_result_200000\", m_learn_without_url_test_with_url_result)"
   ]
  },
  {
   "cell_type": "code",
   "execution_count": null,
   "metadata": {},
   "outputs": [],
   "source": [
    "orig_result = np.load(\"orig_result_200000.npy\")\n",
    "url_result = np.load (\"url_result_200000.npy\")\n",
    "url_only_result = np.load (\"url_only_result_200000.npy\")"
   ]
  },
  {
   "cell_type": "code",
   "execution_count": null,
   "metadata": {},
   "outputs": [],
   "source": [
    "url_result_test_without_url = np.load (\"url_result_test_without_url_200000.npy\")\n",
    "m_learn_without_url_test_with_url_result = np.load (\"m_learn_without_url_test_with_url_result_200000.npy\")\n"
   ]
  },
  {
   "cell_type": "code",
   "execution_count": null,
   "metadata": {},
   "outputs": [],
   "source": [
    "p_g = 1000 #range of p for the graph\n",
    "p_axis = range (p_g)\n",
    "plt.plot(p_axis, orig_result[0:p_g],'r--', label=\"HF-IHU (Baseline)\")\n",
    "plt.plot(p_axis, url_result_test_without_url[0:p_g],'k--',label=\"Fitting only (Adding URL terms to the train set)\")\n",
    "plt.plot(p_axis, m_learn_without_url_test_with_url_result[0:p_g],'g--',label=\"Recommending only (Adding URL terms to the test set)\")\n",
    "plt.plot(p_axis, url_result[0:p_g],'b--',label=\"HF-IHU-URL\")\n",
    "plt.xlabel('Number of Ranked Recommendations (p)')\n",
    "plt.ylabel ('Recall: % Ground Truth Hashtags Matched by Recommendations')\n",
    "legend = plt.legend(loc='upper center', shadow=True, fontsize='x-large')\n",
    "legend.get_frame().set_facecolor('#00FFCC')\n",
    "plt.legend(bbox_to_anchor=(1.05, 1), loc=2, borderaxespad=0.)\n",
    "\n",
    "plt.show()"
   ]
  },
  {
   "cell_type": "code",
   "execution_count": null,
   "metadata": {},
   "outputs": [],
   "source": [
    "p_g = 50 #range of p for the graph\n",
    "p_axis = range (p_g)\n",
    "plt.plot(p_axis, orig_result[0:p_g],'r--', label=\"HF-IHU\")\n",
    "plt.plot(p_axis, url_result[0:p_g],'b--',label=\"HF-IHU-URL (entrie dataset)\")\n",
    "plt.plot(p_axis, url_only_result[0:p_g],'g--',label=\"HF-IHU-URL (url-only dataset)\")\n",
    "plt.xlabel('Number of Ranked Recommendations (p)')\n",
    "plt.ylabel ('Recall: % Ground Truth Hashtags Matched by Recommendations')\n",
    "legend = plt.legend(loc='upper center', shadow=True, fontsize='x-large')\n",
    "legend.get_frame().set_facecolor('#00FFCC')\n",
    "plt.legend(bbox_to_anchor=(1.05, 1), loc=2, borderaxespad=0.)\n",
    "\n",
    "plt.show()"
   ]
  }
 ],
 "metadata": {
  "kernelspec": {
   "display_name": "Python 3",
   "language": "python",
   "name": "python3"
  },
  "language_info": {
   "codemirror_mode": {
    "name": "ipython",
    "version": 3
   },
   "file_extension": ".py",
   "mimetype": "text/x-python",
   "name": "python",
   "nbconvert_exporter": "python",
   "pygments_lexer": "ipython3",
   "version": "3.6.4"
  }
 },
 "nbformat": 4,
 "nbformat_minor": 2
}
